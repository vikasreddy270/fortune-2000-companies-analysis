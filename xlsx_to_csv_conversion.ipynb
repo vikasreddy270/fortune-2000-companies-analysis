{
 "cells": [
  {
   "cell_type": "code",
   "execution_count": 8,
   "id": "3415c36b-386f-491e-9a87-8000623590dd",
   "metadata": {},
   "outputs": [],
   "source": [
    "import glob\n",
    "import pandas as pd"
   ]
  },
  {
   "cell_type": "markdown",
   "id": "a126cdc8-4ea7-4670-adfe-913187510495",
   "metadata": {},
   "source": [
    "## Comverting xlsx files to csv"
   ]
  },
  {
   "cell_type": "code",
   "execution_count": null,
   "id": "6ae6b295-3678-4b08-8c43-9d521c8a5a75",
   "metadata": {},
   "outputs": [],
   "source": [
    "## Running this code now will result in an error, as I have deleted all the xlsx files post comversiton to csv\n",
    "\n",
    "strings = \"data\\*\"\n",
    "for name in glob.glob(strings):\n",
    "    print(name)\n",
    "    df = pd.read_excel(name)\n",
    "    df.to_csv(name.replace(\".xlsx\", \".csv\"))\n",
    "    "
   ]
  }
 ],
 "metadata": {
  "kernelspec": {
   "display_name": "Python 3 (ipykernel)",
   "language": "python",
   "name": "python3"
  },
  "language_info": {
   "codemirror_mode": {
    "name": "ipython",
    "version": 3
   },
   "file_extension": ".py",
   "mimetype": "text/x-python",
   "name": "python",
   "nbconvert_exporter": "python",
   "pygments_lexer": "ipython3",
   "version": "3.9.7"
  }
 },
 "nbformat": 4,
 "nbformat_minor": 5
}
